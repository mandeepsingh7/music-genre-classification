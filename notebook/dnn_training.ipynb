{
 "cells": [
  {
   "cell_type": "markdown",
   "metadata": {},
   "source": [
    "# Music Genre Classification"
   ]
  },
  {
   "cell_type": "markdown",
   "metadata": {},
   "source": [
    "### Model Training"
   ]
  },
  {
   "cell_type": "markdown",
   "metadata": {},
   "source": [
    "We do model training using DNN and check the accuracy.\n"
   ]
  },
  {
   "cell_type": "markdown",
   "metadata": {},
   "source": [
    "### Importing required packages"
   ]
  },
  {
   "cell_type": "code",
   "execution_count": 1,
   "metadata": {},
   "outputs": [],
   "source": [
    "import numpy as np\n",
    "import pandas as pd\n",
    "from sklearn.model_selection import train_test_split\n",
    "from sklearn.preprocessing import LabelEncoder\n",
    "from sklearn.preprocessing import StandardScaler\n",
    "from sklearn.decomposition import PCA\n",
    "import torch\n",
    "import torch.nn as nn\n",
    "from torch.optim import lr_scheduler\n",
    "from tqdm import tqdm\n",
    "import matplotlib.pyplot as plt"
   ]
  },
  {
   "cell_type": "code",
   "execution_count": 2,
   "metadata": {},
   "outputs": [],
   "source": [
    "device = torch.device('cuda:0' if torch.cuda.is_available() else 'cpu')"
   ]
  },
  {
   "cell_type": "markdown",
   "metadata": {},
   "source": [
    "### Importing data"
   ]
  },
  {
   "cell_type": "code",
   "execution_count": 3,
   "metadata": {},
   "outputs": [],
   "source": [
    "df = pd.read_csv('data/extracted_features.csv')"
   ]
  },
  {
   "cell_type": "markdown",
   "metadata": {},
   "source": [
    "### Show Top 5 records"
   ]
  },
  {
   "cell_type": "code",
   "execution_count": 4,
   "metadata": {},
   "outputs": [
    {
     "data": {
      "text/html": [
       "<div>\n",
       "<style scoped>\n",
       "    .dataframe tbody tr th:only-of-type {\n",
       "        vertical-align: middle;\n",
       "    }\n",
       "\n",
       "    .dataframe tbody tr th {\n",
       "        vertical-align: top;\n",
       "    }\n",
       "\n",
       "    .dataframe thead th {\n",
       "        text-align: right;\n",
       "    }\n",
       "</style>\n",
       "<table border=\"1\" class=\"dataframe\">\n",
       "  <thead>\n",
       "    <tr style=\"text-align: right;\">\n",
       "      <th></th>\n",
       "      <th>amplitude_envelope_min</th>\n",
       "      <th>amplitude_envelope_max</th>\n",
       "      <th>amplitude_envelope_mean</th>\n",
       "      <th>amplitude_envelope_median</th>\n",
       "      <th>amplitude_envelope_std</th>\n",
       "      <th>amplitude_envelope_skewness</th>\n",
       "      <th>amplitude_envelope_kurtosis</th>\n",
       "      <th>tempo</th>\n",
       "      <th>rmse_min</th>\n",
       "      <th>rmse_max</th>\n",
       "      <th>...</th>\n",
       "      <th>delta2_11_skewness</th>\n",
       "      <th>delta2_11_kurtosis</th>\n",
       "      <th>delta2_12_min</th>\n",
       "      <th>delta2_12_max</th>\n",
       "      <th>delta2_12_mean</th>\n",
       "      <th>delta2_12_median</th>\n",
       "      <th>delta2_12_std</th>\n",
       "      <th>delta2_12_skewness</th>\n",
       "      <th>delta2_12_kurtosis</th>\n",
       "      <th>label</th>\n",
       "    </tr>\n",
       "  </thead>\n",
       "  <tbody>\n",
       "    <tr>\n",
       "      <th>0</th>\n",
       "      <td>0.053619</td>\n",
       "      <td>0.885376</td>\n",
       "      <td>0.327602</td>\n",
       "      <td>0.311066</td>\n",
       "      <td>0.140254</td>\n",
       "      <td>0.489576</td>\n",
       "      <td>-0.128055</td>\n",
       "      <td>123.046875</td>\n",
       "      <td>0.019510</td>\n",
       "      <td>0.364873</td>\n",
       "      <td>...</td>\n",
       "      <td>0.098577</td>\n",
       "      <td>0.191154</td>\n",
       "      <td>-3.352592</td>\n",
       "      <td>3.110977</td>\n",
       "      <td>-0.006362</td>\n",
       "      <td>-0.050244</td>\n",
       "      <td>0.862269</td>\n",
       "      <td>0.129130</td>\n",
       "      <td>0.361510</td>\n",
       "      <td>blues</td>\n",
       "    </tr>\n",
       "    <tr>\n",
       "      <th>1</th>\n",
       "      <td>0.006958</td>\n",
       "      <td>0.683807</td>\n",
       "      <td>0.249066</td>\n",
       "      <td>0.235840</td>\n",
       "      <td>0.140119</td>\n",
       "      <td>0.398476</td>\n",
       "      <td>-0.348839</td>\n",
       "      <td>107.666016</td>\n",
       "      <td>0.003667</td>\n",
       "      <td>0.295631</td>\n",
       "      <td>...</td>\n",
       "      <td>-0.222169</td>\n",
       "      <td>0.044927</td>\n",
       "      <td>-2.307786</td>\n",
       "      <td>2.344125</td>\n",
       "      <td>0.000065</td>\n",
       "      <td>-0.007235</td>\n",
       "      <td>0.797817</td>\n",
       "      <td>0.055032</td>\n",
       "      <td>-0.170996</td>\n",
       "      <td>blues</td>\n",
       "    </tr>\n",
       "    <tr>\n",
       "      <th>2</th>\n",
       "      <td>0.057312</td>\n",
       "      <td>0.834778</td>\n",
       "      <td>0.444890</td>\n",
       "      <td>0.443542</td>\n",
       "      <td>0.151819</td>\n",
       "      <td>0.122503</td>\n",
       "      <td>-0.484946</td>\n",
       "      <td>161.499023</td>\n",
       "      <td>0.020144</td>\n",
       "      <td>0.356653</td>\n",
       "      <td>...</td>\n",
       "      <td>0.061918</td>\n",
       "      <td>1.110443</td>\n",
       "      <td>-3.537014</td>\n",
       "      <td>3.709806</td>\n",
       "      <td>0.000017</td>\n",
       "      <td>0.029372</td>\n",
       "      <td>0.945367</td>\n",
       "      <td>-0.125581</td>\n",
       "      <td>0.691212</td>\n",
       "      <td>blues</td>\n",
       "    </tr>\n",
       "    <tr>\n",
       "      <th>3</th>\n",
       "      <td>0.022308</td>\n",
       "      <td>0.845886</td>\n",
       "      <td>0.306623</td>\n",
       "      <td>0.281799</td>\n",
       "      <td>0.171395</td>\n",
       "      <td>0.489788</td>\n",
       "      <td>-0.477087</td>\n",
       "      <td>172.265625</td>\n",
       "      <td>0.008337</td>\n",
       "      <td>0.402478</td>\n",
       "      <td>...</td>\n",
       "      <td>-0.090198</td>\n",
       "      <td>0.890176</td>\n",
       "      <td>-2.714332</td>\n",
       "      <td>4.469221</td>\n",
       "      <td>-0.001656</td>\n",
       "      <td>-0.007886</td>\n",
       "      <td>0.862563</td>\n",
       "      <td>0.316026</td>\n",
       "      <td>1.078316</td>\n",
       "      <td>blues</td>\n",
       "    </tr>\n",
       "    <tr>\n",
       "      <th>4</th>\n",
       "      <td>0.016296</td>\n",
       "      <td>0.859589</td>\n",
       "      <td>0.282141</td>\n",
       "      <td>0.246765</td>\n",
       "      <td>0.167069</td>\n",
       "      <td>0.794927</td>\n",
       "      <td>0.084406</td>\n",
       "      <td>135.999178</td>\n",
       "      <td>0.006501</td>\n",
       "      <td>0.331345</td>\n",
       "      <td>...</td>\n",
       "      <td>-0.045866</td>\n",
       "      <td>1.249358</td>\n",
       "      <td>-3.021901</td>\n",
       "      <td>4.375982</td>\n",
       "      <td>-0.006027</td>\n",
       "      <td>-0.021120</td>\n",
       "      <td>1.033295</td>\n",
       "      <td>0.141954</td>\n",
       "      <td>0.285965</td>\n",
       "      <td>blues</td>\n",
       "    </tr>\n",
       "  </tbody>\n",
       "</table>\n",
       "<p>5 rows × 492 columns</p>\n",
       "</div>"
      ],
      "text/plain": [
       "   amplitude_envelope_min  amplitude_envelope_max  amplitude_envelope_mean  \\\n",
       "0                0.053619                0.885376                 0.327602   \n",
       "1                0.006958                0.683807                 0.249066   \n",
       "2                0.057312                0.834778                 0.444890   \n",
       "3                0.022308                0.845886                 0.306623   \n",
       "4                0.016296                0.859589                 0.282141   \n",
       "\n",
       "   amplitude_envelope_median  amplitude_envelope_std  \\\n",
       "0                   0.311066                0.140254   \n",
       "1                   0.235840                0.140119   \n",
       "2                   0.443542                0.151819   \n",
       "3                   0.281799                0.171395   \n",
       "4                   0.246765                0.167069   \n",
       "\n",
       "   amplitude_envelope_skewness  amplitude_envelope_kurtosis       tempo  \\\n",
       "0                     0.489576                    -0.128055  123.046875   \n",
       "1                     0.398476                    -0.348839  107.666016   \n",
       "2                     0.122503                    -0.484946  161.499023   \n",
       "3                     0.489788                    -0.477087  172.265625   \n",
       "4                     0.794927                     0.084406  135.999178   \n",
       "\n",
       "   rmse_min  rmse_max  ...  delta2_11_skewness  delta2_11_kurtosis  \\\n",
       "0  0.019510  0.364873  ...            0.098577            0.191154   \n",
       "1  0.003667  0.295631  ...           -0.222169            0.044927   \n",
       "2  0.020144  0.356653  ...            0.061918            1.110443   \n",
       "3  0.008337  0.402478  ...           -0.090198            0.890176   \n",
       "4  0.006501  0.331345  ...           -0.045866            1.249358   \n",
       "\n",
       "   delta2_12_min  delta2_12_max  delta2_12_mean  delta2_12_median  \\\n",
       "0      -3.352592       3.110977       -0.006362         -0.050244   \n",
       "1      -2.307786       2.344125        0.000065         -0.007235   \n",
       "2      -3.537014       3.709806        0.000017          0.029372   \n",
       "3      -2.714332       4.469221       -0.001656         -0.007886   \n",
       "4      -3.021901       4.375982       -0.006027         -0.021120   \n",
       "\n",
       "   delta2_12_std  delta2_12_skewness  delta2_12_kurtosis  label  \n",
       "0       0.862269            0.129130            0.361510  blues  \n",
       "1       0.797817            0.055032           -0.170996  blues  \n",
       "2       0.945367           -0.125581            0.691212  blues  \n",
       "3       0.862563            0.316026            1.078316  blues  \n",
       "4       1.033295            0.141954            0.285965  blues  \n",
       "\n",
       "[5 rows x 492 columns]"
      ]
     },
     "execution_count": 4,
     "metadata": {},
     "output_type": "execute_result"
    }
   ],
   "source": [
    "df.head()"
   ]
  },
  {
   "cell_type": "markdown",
   "metadata": {},
   "source": [
    "### Converting categorical label to numerical values"
   ]
  },
  {
   "cell_type": "code",
   "execution_count": 5,
   "metadata": {},
   "outputs": [],
   "source": [
    "le = LabelEncoder()\n",
    "df['label'] = le.fit_transform(df['label'])"
   ]
  },
  {
   "cell_type": "code",
   "execution_count": 6,
   "metadata": {},
   "outputs": [
    {
     "name": "stdout",
     "output_type": "stream",
     "text": [
      "Mapping = {'blues': 0, 'classical': 1, 'country': 2, 'disco': 3, 'hiphop': 4, 'jazz': 5, 'metal': 6, 'pop': 7, 'reggae': 8, 'rock': 9}\n"
     ]
    }
   ],
   "source": [
    "mapping = dict(zip(le.classes_, le.transform(le.classes_)))\n",
    "print(f'Mapping = {mapping}')"
   ]
  },
  {
   "cell_type": "code",
   "execution_count": 7,
   "metadata": {},
   "outputs": [
    {
     "data": {
      "text/html": [
       "<div>\n",
       "<style scoped>\n",
       "    .dataframe tbody tr th:only-of-type {\n",
       "        vertical-align: middle;\n",
       "    }\n",
       "\n",
       "    .dataframe tbody tr th {\n",
       "        vertical-align: top;\n",
       "    }\n",
       "\n",
       "    .dataframe thead th {\n",
       "        text-align: right;\n",
       "    }\n",
       "</style>\n",
       "<table border=\"1\" class=\"dataframe\">\n",
       "  <thead>\n",
       "    <tr style=\"text-align: right;\">\n",
       "      <th></th>\n",
       "      <th>amplitude_envelope_min</th>\n",
       "      <th>amplitude_envelope_max</th>\n",
       "      <th>amplitude_envelope_mean</th>\n",
       "      <th>amplitude_envelope_median</th>\n",
       "      <th>amplitude_envelope_std</th>\n",
       "      <th>amplitude_envelope_skewness</th>\n",
       "      <th>amplitude_envelope_kurtosis</th>\n",
       "      <th>tempo</th>\n",
       "      <th>rmse_min</th>\n",
       "      <th>rmse_max</th>\n",
       "      <th>...</th>\n",
       "      <th>delta2_11_skewness</th>\n",
       "      <th>delta2_11_kurtosis</th>\n",
       "      <th>delta2_12_min</th>\n",
       "      <th>delta2_12_max</th>\n",
       "      <th>delta2_12_mean</th>\n",
       "      <th>delta2_12_median</th>\n",
       "      <th>delta2_12_std</th>\n",
       "      <th>delta2_12_skewness</th>\n",
       "      <th>delta2_12_kurtosis</th>\n",
       "      <th>label</th>\n",
       "    </tr>\n",
       "  </thead>\n",
       "  <tbody>\n",
       "    <tr>\n",
       "      <th>0</th>\n",
       "      <td>0.053619</td>\n",
       "      <td>0.885376</td>\n",
       "      <td>0.327602</td>\n",
       "      <td>0.311066</td>\n",
       "      <td>0.140254</td>\n",
       "      <td>0.489576</td>\n",
       "      <td>-0.128055</td>\n",
       "      <td>123.046875</td>\n",
       "      <td>0.019510</td>\n",
       "      <td>0.364873</td>\n",
       "      <td>...</td>\n",
       "      <td>0.098577</td>\n",
       "      <td>0.191154</td>\n",
       "      <td>-3.352592</td>\n",
       "      <td>3.110977</td>\n",
       "      <td>-0.006362</td>\n",
       "      <td>-0.050244</td>\n",
       "      <td>0.862269</td>\n",
       "      <td>0.129130</td>\n",
       "      <td>0.361510</td>\n",
       "      <td>0</td>\n",
       "    </tr>\n",
       "    <tr>\n",
       "      <th>1</th>\n",
       "      <td>0.006958</td>\n",
       "      <td>0.683807</td>\n",
       "      <td>0.249066</td>\n",
       "      <td>0.235840</td>\n",
       "      <td>0.140119</td>\n",
       "      <td>0.398476</td>\n",
       "      <td>-0.348839</td>\n",
       "      <td>107.666016</td>\n",
       "      <td>0.003667</td>\n",
       "      <td>0.295631</td>\n",
       "      <td>...</td>\n",
       "      <td>-0.222169</td>\n",
       "      <td>0.044927</td>\n",
       "      <td>-2.307786</td>\n",
       "      <td>2.344125</td>\n",
       "      <td>0.000065</td>\n",
       "      <td>-0.007235</td>\n",
       "      <td>0.797817</td>\n",
       "      <td>0.055032</td>\n",
       "      <td>-0.170996</td>\n",
       "      <td>0</td>\n",
       "    </tr>\n",
       "    <tr>\n",
       "      <th>2</th>\n",
       "      <td>0.057312</td>\n",
       "      <td>0.834778</td>\n",
       "      <td>0.444890</td>\n",
       "      <td>0.443542</td>\n",
       "      <td>0.151819</td>\n",
       "      <td>0.122503</td>\n",
       "      <td>-0.484946</td>\n",
       "      <td>161.499023</td>\n",
       "      <td>0.020144</td>\n",
       "      <td>0.356653</td>\n",
       "      <td>...</td>\n",
       "      <td>0.061918</td>\n",
       "      <td>1.110443</td>\n",
       "      <td>-3.537014</td>\n",
       "      <td>3.709806</td>\n",
       "      <td>0.000017</td>\n",
       "      <td>0.029372</td>\n",
       "      <td>0.945367</td>\n",
       "      <td>-0.125581</td>\n",
       "      <td>0.691212</td>\n",
       "      <td>0</td>\n",
       "    </tr>\n",
       "    <tr>\n",
       "      <th>3</th>\n",
       "      <td>0.022308</td>\n",
       "      <td>0.845886</td>\n",
       "      <td>0.306623</td>\n",
       "      <td>0.281799</td>\n",
       "      <td>0.171395</td>\n",
       "      <td>0.489788</td>\n",
       "      <td>-0.477087</td>\n",
       "      <td>172.265625</td>\n",
       "      <td>0.008337</td>\n",
       "      <td>0.402478</td>\n",
       "      <td>...</td>\n",
       "      <td>-0.090198</td>\n",
       "      <td>0.890176</td>\n",
       "      <td>-2.714332</td>\n",
       "      <td>4.469221</td>\n",
       "      <td>-0.001656</td>\n",
       "      <td>-0.007886</td>\n",
       "      <td>0.862563</td>\n",
       "      <td>0.316026</td>\n",
       "      <td>1.078316</td>\n",
       "      <td>0</td>\n",
       "    </tr>\n",
       "    <tr>\n",
       "      <th>4</th>\n",
       "      <td>0.016296</td>\n",
       "      <td>0.859589</td>\n",
       "      <td>0.282141</td>\n",
       "      <td>0.246765</td>\n",
       "      <td>0.167069</td>\n",
       "      <td>0.794927</td>\n",
       "      <td>0.084406</td>\n",
       "      <td>135.999178</td>\n",
       "      <td>0.006501</td>\n",
       "      <td>0.331345</td>\n",
       "      <td>...</td>\n",
       "      <td>-0.045866</td>\n",
       "      <td>1.249358</td>\n",
       "      <td>-3.021901</td>\n",
       "      <td>4.375982</td>\n",
       "      <td>-0.006027</td>\n",
       "      <td>-0.021120</td>\n",
       "      <td>1.033295</td>\n",
       "      <td>0.141954</td>\n",
       "      <td>0.285965</td>\n",
       "      <td>0</td>\n",
       "    </tr>\n",
       "  </tbody>\n",
       "</table>\n",
       "<p>5 rows × 492 columns</p>\n",
       "</div>"
      ],
      "text/plain": [
       "   amplitude_envelope_min  amplitude_envelope_max  amplitude_envelope_mean  \\\n",
       "0                0.053619                0.885376                 0.327602   \n",
       "1                0.006958                0.683807                 0.249066   \n",
       "2                0.057312                0.834778                 0.444890   \n",
       "3                0.022308                0.845886                 0.306623   \n",
       "4                0.016296                0.859589                 0.282141   \n",
       "\n",
       "   amplitude_envelope_median  amplitude_envelope_std  \\\n",
       "0                   0.311066                0.140254   \n",
       "1                   0.235840                0.140119   \n",
       "2                   0.443542                0.151819   \n",
       "3                   0.281799                0.171395   \n",
       "4                   0.246765                0.167069   \n",
       "\n",
       "   amplitude_envelope_skewness  amplitude_envelope_kurtosis       tempo  \\\n",
       "0                     0.489576                    -0.128055  123.046875   \n",
       "1                     0.398476                    -0.348839  107.666016   \n",
       "2                     0.122503                    -0.484946  161.499023   \n",
       "3                     0.489788                    -0.477087  172.265625   \n",
       "4                     0.794927                     0.084406  135.999178   \n",
       "\n",
       "   rmse_min  rmse_max  ...  delta2_11_skewness  delta2_11_kurtosis  \\\n",
       "0  0.019510  0.364873  ...            0.098577            0.191154   \n",
       "1  0.003667  0.295631  ...           -0.222169            0.044927   \n",
       "2  0.020144  0.356653  ...            0.061918            1.110443   \n",
       "3  0.008337  0.402478  ...           -0.090198            0.890176   \n",
       "4  0.006501  0.331345  ...           -0.045866            1.249358   \n",
       "\n",
       "   delta2_12_min  delta2_12_max  delta2_12_mean  delta2_12_median  \\\n",
       "0      -3.352592       3.110977       -0.006362         -0.050244   \n",
       "1      -2.307786       2.344125        0.000065         -0.007235   \n",
       "2      -3.537014       3.709806        0.000017          0.029372   \n",
       "3      -2.714332       4.469221       -0.001656         -0.007886   \n",
       "4      -3.021901       4.375982       -0.006027         -0.021120   \n",
       "\n",
       "   delta2_12_std  delta2_12_skewness  delta2_12_kurtosis  label  \n",
       "0       0.862269            0.129130            0.361510      0  \n",
       "1       0.797817            0.055032           -0.170996      0  \n",
       "2       0.945367           -0.125581            0.691212      0  \n",
       "3       0.862563            0.316026            1.078316      0  \n",
       "4       1.033295            0.141954            0.285965      0  \n",
       "\n",
       "[5 rows x 492 columns]"
      ]
     },
     "execution_count": 7,
     "metadata": {},
     "output_type": "execute_result"
    }
   ],
   "source": [
    "df.head()"
   ]
  },
  {
   "cell_type": "markdown",
   "metadata": {},
   "source": [
    "### Creating feature and target matrix"
   ]
  },
  {
   "cell_type": "code",
   "execution_count": 8,
   "metadata": {},
   "outputs": [],
   "source": [
    "X_df = df.drop(columns = ['label'])\n",
    "y_df = df['label']"
   ]
  },
  {
   "cell_type": "code",
   "execution_count": 10,
   "metadata": {},
   "outputs": [],
   "source": [
    "X_train_valid, X_test, y_train_valid, y_test = train_test_split( X_df, y_df, test_size=0.1, random_state=42, stratify=y_df)\n",
    "X_train, X_valid, y_train, y_valid = train_test_split( X_train_valid, y_train_valid, test_size=0.1, random_state=42, stratify=y_train_valid)"
   ]
  },
  {
   "cell_type": "markdown",
   "metadata": {},
   "source": [
    "### Standardization"
   ]
  },
  {
   "cell_type": "code",
   "execution_count": 11,
   "metadata": {},
   "outputs": [],
   "source": [
    "sc = StandardScaler()\n",
    "X_train = sc.fit_transform(X_train)\n",
    "X_test = sc.transform(X_test)\n",
    "X_valid = sc.transform(X_valid)"
   ]
  },
  {
   "cell_type": "code",
   "execution_count": 64,
   "metadata": {},
   "outputs": [],
   "source": [
    "y_train = y_train.to_numpy()\n",
    "y_test = y_test.to_numpy()\n",
    "y_valid = y_valid.to_numpy()"
   ]
  },
  {
   "cell_type": "code",
   "execution_count": 15,
   "metadata": {},
   "outputs": [
    {
     "name": "stdout",
     "output_type": "stream",
     "text": [
      "Shape of X_train = (810, 491)\n",
      "Shape of y_train = (810,)\n",
      "Shape of X_test = (100, 491)\n",
      "Shape of y_test = (100,)\n",
      "Shape of X_valid = (90, 491)\n",
      "Shape of y_valid = (90,)\n"
     ]
    }
   ],
   "source": [
    "print(f'Shape of X_train = {X_train.shape}')\n",
    "print(f'Shape of y_train = {y_train.shape}')\n",
    "print(f'Shape of X_test = {X_test.shape}')\n",
    "print(f'Shape of y_test = {y_test.shape}')\n",
    "print(f'Shape of X_valid = {X_valid.shape}')\n",
    "print(f'Shape of y_valid = {y_valid.shape}')"
   ]
  },
  {
   "cell_type": "markdown",
   "metadata": {},
   "source": [
    "#### Creating train and valid dataloader"
   ]
  },
  {
   "cell_type": "code",
   "execution_count": 65,
   "metadata": {},
   "outputs": [],
   "source": [
    "train_data = torch.utils.data.TensorDataset(torch.tensor(X_train).float(), torch.tensor(y_train).type(torch.int64))\n",
    "train_loader = torch.utils.data.DataLoader(dataset=train_data,\n",
    "                                           batch_size = 16,\n",
    "                                           shuffle = True)\n",
    "\n",
    "valid_data = torch.utils.data.TensorDataset(torch.tensor(X_valid).float(), torch.tensor(y_valid).type(torch.int64))\n",
    "valid_loader = torch.utils.data.DataLoader(dataset=valid_data,\n",
    "                                           batch_size = 16,\n",
    "                                           shuffle = True)"
   ]
  },
  {
   "cell_type": "markdown",
   "metadata": {},
   "source": [
    "## Models"
   ]
  },
  {
   "cell_type": "markdown",
   "metadata": {},
   "source": [
    "### Training"
   ]
  },
  {
   "cell_type": "code",
   "execution_count": 21,
   "metadata": {},
   "outputs": [],
   "source": [
    "def training(model, model_name, loss_fn, optimizer, scheduler, train_data_loader, valid_data_loader, num_epochs = 25, patience = 5):\n",
    "    min_loss = np.inf\n",
    "    count = 0\n",
    "    history = []\n",
    "    for epoch in tqdm(range(num_epochs)):\n",
    "        model.train()\n",
    "        train_loss = 0.0\n",
    "        train_acc = 0.0 \n",
    "        \n",
    "        valid_loss = 0.0\n",
    "        valid_acc = 0.0\n",
    "        for _, (inputs, labels) in enumerate(train_data_loader):\n",
    "            inputs = inputs.to(device)\n",
    "            labels = labels.to(device)\n",
    "            optimizer.zero_grad()\n",
    "            y_preds = model(inputs)\n",
    "            loss = loss_fn(y_preds, labels)\n",
    "            loss.backward()\n",
    "            optimizer.step()\n",
    "            train_loss += loss.item()*len(inputs)\n",
    "            correct_counts = (torch.argmax(y_preds.data, 1) == labels).float().sum().item()\n",
    "            train_acc += correct_counts\n",
    "        \n",
    "        with torch.no_grad():\n",
    "            model.eval()\n",
    "            for _, (inputs, labels) in enumerate(valid_data_loader):\n",
    "                inputs = inputs.to(device)\n",
    "                labels = labels.to(device)\n",
    "                y_preds = model(inputs)\n",
    "                loss = loss_fn(y_preds, labels)\n",
    "                valid_loss += loss.item()*len(inputs)\n",
    "                correct_counts = (torch.argmax(y_preds.data, 1) == labels).float().sum().item()\n",
    "                valid_acc += correct_counts\n",
    "        \n",
    "        train_loss = train_loss/len(train_data_loader.dataset)\n",
    "        train_acc = train_acc/len(train_data_loader.dataset)\n",
    "        \n",
    "        valid_loss = valid_loss/len(valid_data_loader.dataset)\n",
    "        valid_acc = valid_acc/len(valid_data_loader.dataset)\n",
    "        \n",
    "        history.append([train_acc, train_loss, valid_acc, valid_loss]) \n",
    "        print(f'Epoch No. {epoch+1}')\n",
    "        print(f'Training Accuracy = {train_acc:.4f}, Loss = {train_loss:.4f}')\n",
    "        print(f'Validation Accuracy = {valid_acc:.4f}, Loss = {valid_loss:.4f}')\n",
    "        torch.save(model.state_dict(), model_name + '_last_epoch.pt')\n",
    "        \n",
    "        scheduler.step(valid_loss)\n",
    "        \n",
    "        if (valid_loss < min_loss):\n",
    "            count = 0 \n",
    "            min_loss = valid_loss \n",
    "            torch.save(model.state_dict(), model_name + '_best_model.pt')\n",
    "        \n",
    "        else:\n",
    "            count += 1\n",
    "            if (count >= patience):\n",
    "                print(f'Early stop at Epoch Number. {epoch + 1}')\n",
    "                break \n",
    "        \n",
    "    return model, history"
   ]
  },
  {
   "cell_type": "markdown",
   "metadata": {},
   "source": [
    "### Accuracy for test data"
   ]
  },
  {
   "cell_type": "code",
   "execution_count": 71,
   "metadata": {},
   "outputs": [],
   "source": [
    "test_data = torch.utils.data.TensorDataset(torch.tensor(X_test).float(), torch.tensor(y_test).type(torch.int64))\n",
    "test_loader = torch.utils.data.DataLoader(dataset=test_data,\n",
    "                                           batch_size = 16,\n",
    "                                           shuffle = True)"
   ]
  },
  {
   "cell_type": "code",
   "execution_count": 23,
   "metadata": {},
   "outputs": [],
   "source": [
    "def get_accuracy(trained_model, loss_fn, test_data_loader):\n",
    "    test_loss = 0.0\n",
    "    test_acc = 0.0\n",
    "    with torch.no_grad():\n",
    "        trained_model.eval()\n",
    "        for _, (inputs, labels) in enumerate(test_data_loader):\n",
    "            inputs = inputs.to(device)\n",
    "            labels = labels.to(device)\n",
    "            y_preds = trained_model(inputs)\n",
    "            loss = loss_fn(y_preds, labels)\n",
    "            test_loss += loss.item()*len(inputs)\n",
    "            correct_counts = (torch.argmax(y_preds.data, 1) == labels).float().sum().item()\n",
    "            test_acc += correct_counts\n",
    "    test_loss = test_loss/len(test_data_loader.dataset)\n",
    "    test_acc = test_acc/len(test_data_loader.dataset)\n",
    "    print(f'Loss for test set = {test_loss:.4f}')\n",
    "    print(f'Accuracy for test set = {test_acc:.4f}')\n",
    "    return test_loss, test_acc"
   ]
  },
  {
   "cell_type": "code",
   "execution_count": 24,
   "metadata": {},
   "outputs": [],
   "source": [
    "def post_training(trained_model, loss_fn, test_loader, history, model_name):\n",
    "    test_loss, test_acc = get_accuracy(trained_model, loss_fn, test_loader)\n",
    "    history_np = np.array(history)\n",
    "    fig, axes = plt.subplots(1, 2, figsize = (12, 4))\n",
    "    epochs_list = np.arange(1, len(history_np)+1)\n",
    "    axes[0].plot(epochs_list, history_np[:, 0], label = \"Training Accuracy\", marker = '.')\n",
    "    axes[0].plot(epochs_list, history_np[:, 2], label = \"Validation Accuracy\", marker = '.')\n",
    "    axes[0].set_xlabel('Epochs')\n",
    "    axes[0].set_ylabel('Accuracy')\n",
    "    axes[0].legend()\n",
    "\n",
    "    axes[1].plot(epochs_list, history_np[:, 1], label = \"Training Loss\", marker = '.')\n",
    "    axes[1].plot(epochs_list, history_np[:, 3], label = \"Validation Loss\", marker = '.')\n",
    "    axes[1].set_xlabel('Epochs')\n",
    "    axes[1].set_ylabel('Loss')\n",
    "    axes[1].legend()\n",
    "\n",
    "    fig.suptitle(f'Training for {model_name}')\n",
    "    plt.show()\n",
    "    return test_loss, test_acc"
   ]
  },
  {
   "cell_type": "markdown",
   "metadata": {},
   "source": [
    "### DNN"
   ]
  },
  {
   "cell_type": "code",
   "execution_count": 75,
   "metadata": {},
   "outputs": [
    {
     "name": "stderr",
     "output_type": "stream",
     "text": [
      "  2%|▏         | 1/50 [00:00<00:16,  2.91it/s]"
     ]
    },
    {
     "name": "stdout",
     "output_type": "stream",
     "text": [
      "Epoch No. 1\n",
      "Training Accuracy = 0.1457, Loss = 2.2572\n",
      "Validation Accuracy = 0.3667, Loss = 1.9753\n"
     ]
    },
    {
     "name": "stderr",
     "output_type": "stream",
     "text": [
      "  4%|▍         | 2/50 [00:00<00:15,  3.13it/s]"
     ]
    },
    {
     "name": "stdout",
     "output_type": "stream",
     "text": [
      "Epoch No. 2\n",
      "Training Accuracy = 0.2630, Loss = 1.9616\n",
      "Validation Accuracy = 0.4333, Loss = 1.6013\n"
     ]
    },
    {
     "name": "stderr",
     "output_type": "stream",
     "text": [
      "  6%|▌         | 3/50 [00:00<00:14,  3.25it/s]"
     ]
    },
    {
     "name": "stdout",
     "output_type": "stream",
     "text": [
      "Epoch No. 3\n",
      "Training Accuracy = 0.3556, Loss = 1.7917\n",
      "Validation Accuracy = 0.4778, Loss = 1.4297\n"
     ]
    },
    {
     "name": "stderr",
     "output_type": "stream",
     "text": [
      "  8%|▊         | 4/50 [00:01<00:13,  3.35it/s]"
     ]
    },
    {
     "name": "stdout",
     "output_type": "stream",
     "text": [
      "Epoch No. 4\n",
      "Training Accuracy = 0.4062, Loss = 1.6431\n",
      "Validation Accuracy = 0.5556, Loss = 1.3142\n"
     ]
    },
    {
     "name": "stderr",
     "output_type": "stream",
     "text": [
      " 10%|█         | 5/50 [00:01<00:13,  3.32it/s]"
     ]
    },
    {
     "name": "stdout",
     "output_type": "stream",
     "text": [
      "Epoch No. 5\n",
      "Training Accuracy = 0.4259, Loss = 1.5086\n",
      "Validation Accuracy = 0.6111, Loss = 1.2087\n"
     ]
    },
    {
     "name": "stderr",
     "output_type": "stream",
     "text": [
      " 12%|█▏        | 6/50 [00:01<00:13,  3.35it/s]"
     ]
    },
    {
     "name": "stdout",
     "output_type": "stream",
     "text": [
      "Epoch No. 6\n",
      "Training Accuracy = 0.4926, Loss = 1.3850\n",
      "Validation Accuracy = 0.6000, Loss = 1.1407\n"
     ]
    },
    {
     "name": "stderr",
     "output_type": "stream",
     "text": [
      " 14%|█▍        | 7/50 [00:02<00:12,  3.37it/s]"
     ]
    },
    {
     "name": "stdout",
     "output_type": "stream",
     "text": [
      "Epoch No. 7\n",
      "Training Accuracy = 0.5333, Loss = 1.2384\n",
      "Validation Accuracy = 0.7111, Loss = 1.0042\n"
     ]
    },
    {
     "name": "stderr",
     "output_type": "stream",
     "text": [
      " 16%|█▌        | 8/50 [00:02<00:12,  3.40it/s]"
     ]
    },
    {
     "name": "stdout",
     "output_type": "stream",
     "text": [
      "Epoch No. 8\n",
      "Training Accuracy = 0.5654, Loss = 1.1577\n",
      "Validation Accuracy = 0.7556, Loss = 0.9166\n"
     ]
    },
    {
     "name": "stderr",
     "output_type": "stream",
     "text": [
      " 18%|█▊        | 9/50 [00:02<00:12,  3.40it/s]"
     ]
    },
    {
     "name": "stdout",
     "output_type": "stream",
     "text": [
      "Epoch No. 9\n",
      "Training Accuracy = 0.5852, Loss = 1.1246\n",
      "Validation Accuracy = 0.7000, Loss = 0.8615\n"
     ]
    },
    {
     "name": "stderr",
     "output_type": "stream",
     "text": [
      " 20%|██        | 10/50 [00:03<00:11,  3.37it/s]"
     ]
    },
    {
     "name": "stdout",
     "output_type": "stream",
     "text": [
      "Epoch No. 10\n",
      "Training Accuracy = 0.6037, Loss = 1.1081\n",
      "Validation Accuracy = 0.7444, Loss = 0.8581\n"
     ]
    },
    {
     "name": "stderr",
     "output_type": "stream",
     "text": [
      " 22%|██▏       | 11/50 [00:03<00:11,  3.34it/s]"
     ]
    },
    {
     "name": "stdout",
     "output_type": "stream",
     "text": [
      "Epoch No. 11\n",
      "Training Accuracy = 0.6667, Loss = 0.9837\n",
      "Validation Accuracy = 0.7222, Loss = 0.8118\n"
     ]
    },
    {
     "name": "stderr",
     "output_type": "stream",
     "text": [
      " 24%|██▍       | 12/50 [00:03<00:11,  3.28it/s]"
     ]
    },
    {
     "name": "stdout",
     "output_type": "stream",
     "text": [
      "Epoch No. 12\n",
      "Training Accuracy = 0.7198, Loss = 0.8501\n",
      "Validation Accuracy = 0.7333, Loss = 0.7934\n"
     ]
    },
    {
     "name": "stderr",
     "output_type": "stream",
     "text": [
      " 26%|██▌       | 13/50 [00:03<00:11,  3.34it/s]"
     ]
    },
    {
     "name": "stdout",
     "output_type": "stream",
     "text": [
      "Epoch No. 13\n",
      "Training Accuracy = 0.7148, Loss = 0.8080\n",
      "Validation Accuracy = 0.7333, Loss = 0.8294\n"
     ]
    },
    {
     "name": "stderr",
     "output_type": "stream",
     "text": [
      " 28%|██▊       | 14/50 [00:04<00:12,  2.96it/s]"
     ]
    },
    {
     "name": "stdout",
     "output_type": "stream",
     "text": [
      "Epoch No. 14\n",
      "Training Accuracy = 0.7185, Loss = 0.8114\n",
      "Validation Accuracy = 0.7111, Loss = 0.7629\n"
     ]
    },
    {
     "name": "stderr",
     "output_type": "stream",
     "text": [
      " 30%|███       | 15/50 [00:04<00:11,  3.07it/s]"
     ]
    },
    {
     "name": "stdout",
     "output_type": "stream",
     "text": [
      "Epoch No. 15\n",
      "Training Accuracy = 0.7420, Loss = 0.7722\n",
      "Validation Accuracy = 0.7556, Loss = 0.7682\n"
     ]
    },
    {
     "name": "stderr",
     "output_type": "stream",
     "text": [
      " 32%|███▏      | 16/50 [00:04<00:10,  3.20it/s]"
     ]
    },
    {
     "name": "stdout",
     "output_type": "stream",
     "text": [
      "Epoch No. 16\n",
      "Training Accuracy = 0.7506, Loss = 0.7731\n",
      "Validation Accuracy = 0.7556, Loss = 0.7215\n"
     ]
    },
    {
     "name": "stderr",
     "output_type": "stream",
     "text": [
      " 34%|███▍      | 17/50 [00:05<00:10,  3.28it/s]"
     ]
    },
    {
     "name": "stdout",
     "output_type": "stream",
     "text": [
      "Epoch No. 17\n",
      "Training Accuracy = 0.7864, Loss = 0.6935\n",
      "Validation Accuracy = 0.7889, Loss = 0.7253\n"
     ]
    },
    {
     "name": "stderr",
     "output_type": "stream",
     "text": [
      " 36%|███▌      | 18/50 [00:05<00:09,  3.33it/s]"
     ]
    },
    {
     "name": "stdout",
     "output_type": "stream",
     "text": [
      "Epoch No. 18\n",
      "Training Accuracy = 0.7840, Loss = 0.7231\n",
      "Validation Accuracy = 0.7111, Loss = 0.8035\n"
     ]
    },
    {
     "name": "stderr",
     "output_type": "stream",
     "text": [
      " 38%|███▊      | 19/50 [00:05<00:09,  3.40it/s]"
     ]
    },
    {
     "name": "stdout",
     "output_type": "stream",
     "text": [
      "Epoch No. 19\n",
      "Training Accuracy = 0.7728, Loss = 0.6483\n",
      "Validation Accuracy = 0.7556, Loss = 0.7714\n"
     ]
    },
    {
     "name": "stderr",
     "output_type": "stream",
     "text": [
      " 40%|████      | 20/50 [00:06<00:08,  3.42it/s]"
     ]
    },
    {
     "name": "stdout",
     "output_type": "stream",
     "text": [
      "Epoch No. 20\n",
      "Training Accuracy = 0.7568, Loss = 0.6860\n",
      "Validation Accuracy = 0.7556, Loss = 0.6792\n"
     ]
    },
    {
     "name": "stderr",
     "output_type": "stream",
     "text": [
      " 42%|████▏     | 21/50 [00:06<00:08,  3.41it/s]"
     ]
    },
    {
     "name": "stdout",
     "output_type": "stream",
     "text": [
      "Epoch No. 21\n",
      "Training Accuracy = 0.7914, Loss = 0.6336\n",
      "Validation Accuracy = 0.7556, Loss = 0.6753\n"
     ]
    },
    {
     "name": "stderr",
     "output_type": "stream",
     "text": [
      " 44%|████▍     | 22/50 [00:06<00:08,  3.43it/s]"
     ]
    },
    {
     "name": "stdout",
     "output_type": "stream",
     "text": [
      "Epoch No. 22\n",
      "Training Accuracy = 0.8148, Loss = 0.5606\n",
      "Validation Accuracy = 0.7667, Loss = 0.7077\n"
     ]
    },
    {
     "name": "stderr",
     "output_type": "stream",
     "text": [
      " 46%|████▌     | 23/50 [00:06<00:07,  3.45it/s]"
     ]
    },
    {
     "name": "stdout",
     "output_type": "stream",
     "text": [
      "Epoch No. 23\n",
      "Training Accuracy = 0.7864, Loss = 0.6656\n",
      "Validation Accuracy = 0.7444, Loss = 0.7409\n"
     ]
    },
    {
     "name": "stderr",
     "output_type": "stream",
     "text": [
      " 48%|████▊     | 24/50 [00:07<00:07,  3.46it/s]"
     ]
    },
    {
     "name": "stdout",
     "output_type": "stream",
     "text": [
      "Epoch No. 24\n",
      "Training Accuracy = 0.8148, Loss = 0.6128\n",
      "Validation Accuracy = 0.7333, Loss = 0.7923\n"
     ]
    },
    {
     "name": "stderr",
     "output_type": "stream",
     "text": [
      " 50%|█████     | 25/50 [00:07<00:07,  3.48it/s]"
     ]
    },
    {
     "name": "stdout",
     "output_type": "stream",
     "text": [
      "Epoch No. 25\n",
      "Training Accuracy = 0.7914, Loss = 0.6307\n",
      "Validation Accuracy = 0.7667, Loss = 0.7145\n"
     ]
    },
    {
     "name": "stderr",
     "output_type": "stream",
     "text": [
      " 52%|█████▏    | 26/50 [00:07<00:06,  3.45it/s]"
     ]
    },
    {
     "name": "stdout",
     "output_type": "stream",
     "text": [
      "Epoch No. 26\n",
      "Training Accuracy = 0.8148, Loss = 0.5635\n",
      "Validation Accuracy = 0.7222, Loss = 0.7197\n"
     ]
    },
    {
     "name": "stderr",
     "output_type": "stream",
     "text": [
      " 54%|█████▍    | 27/50 [00:08<00:06,  3.46it/s]"
     ]
    },
    {
     "name": "stdout",
     "output_type": "stream",
     "text": [
      "Epoch No. 27\n",
      "Training Accuracy = 0.8370, Loss = 0.5091\n",
      "Validation Accuracy = 0.7778, Loss = 0.7245\n"
     ]
    },
    {
     "name": "stderr",
     "output_type": "stream",
     "text": [
      " 56%|█████▌    | 28/50 [00:08<00:06,  3.51it/s]"
     ]
    },
    {
     "name": "stdout",
     "output_type": "stream",
     "text": [
      "Epoch No. 28\n",
      "Training Accuracy = 0.8543, Loss = 0.5194\n",
      "Validation Accuracy = 0.7667, Loss = 0.7488\n"
     ]
    },
    {
     "name": "stderr",
     "output_type": "stream",
     "text": [
      " 58%|█████▊    | 29/50 [00:08<00:06,  3.46it/s]"
     ]
    },
    {
     "name": "stdout",
     "output_type": "stream",
     "text": [
      "Epoch No. 29\n",
      "Training Accuracy = 0.8605, Loss = 0.4331\n",
      "Validation Accuracy = 0.7778, Loss = 0.7538\n"
     ]
    },
    {
     "name": "stderr",
     "output_type": "stream",
     "text": [
      " 60%|██████    | 30/50 [00:08<00:05,  3.36it/s]"
     ]
    },
    {
     "name": "stdout",
     "output_type": "stream",
     "text": [
      "Epoch No. 30\n",
      "Training Accuracy = 0.8469, Loss = 0.4264\n",
      "Validation Accuracy = 0.7444, Loss = 0.7628\n"
     ]
    },
    {
     "name": "stderr",
     "output_type": "stream",
     "text": [
      " 60%|██████    | 30/50 [00:09<00:06,  3.24it/s]"
     ]
    },
    {
     "name": "stdout",
     "output_type": "stream",
     "text": [
      "Epoch No. 31\n",
      "Training Accuracy = 0.8531, Loss = 0.4972\n",
      "Validation Accuracy = 0.7667, Loss = 0.8291\n",
      "Early stop at Epoch Number. 31\n"
     ]
    },
    {
     "name": "stderr",
     "output_type": "stream",
     "text": [
      "\n"
     ]
    }
   ],
   "source": [
    "model_name = 'DNN'\n",
    "model_1 = nn.Sequential(\n",
    "    nn.Linear(491, 512),\n",
    "    nn.ReLU(),\n",
    "    nn.Dropout(0.7),\n",
    "    nn.Linear(512, 256),\n",
    "    nn.ReLU(),\n",
    "    nn.Dropout(0.7),\n",
    "    nn.Linear(256,128),\n",
    "    nn.ReLU(),\n",
    "    nn.Dropout(0.7),\n",
    "    nn.Linear(128, 10)\n",
    ")\n",
    "learning_rate = 0.001\n",
    "loss_fn = nn.CrossEntropyLoss()\n",
    "optimizer = torch.optim.Adam(model_1.parameters(), lr = learning_rate)\n",
    "scheduler = lr_scheduler.ReduceLROnPlateau(optimizer, 'min')\n",
    "model_1.to(device)\n",
    "trained_model1 , history_model1 = training(model_1, 'DNN', loss_fn, optimizer, scheduler, train_loader, valid_loader, 50, 10)"
   ]
  },
  {
   "cell_type": "code",
   "execution_count": 76,
   "metadata": {},
   "outputs": [
    {
     "name": "stdout",
     "output_type": "stream",
     "text": [
      "Loss for test set = 0.6681\n",
      "Accuracy for test set = 0.8000\n"
     ]
    },
    {
     "data": {
      "image/png": "[encoded data removed]",
      "text/plain": [
       "<Figure size 1200x400 with 2 Axes>"
      ]
     },
     "metadata": {},
     "output_type": "display_data"
    }
   ],
   "source": [
    "test_loss_1, test_acc_1 = post_training(trained_model1, loss_fn, test_loader, history_model1, 'DNN')"
   ]
  }
 ],
 "metadata": {
  "kernelspec": {
   "display_name": "Python 3",
   "language": "python",
   "name": "python3"
  },
  "language_info": {
   "codemirror_mode": {
    "name": "ipython",
    "version": 3
   },
   "file_extension": ".py",
   "mimetype": "text/x-python",
   "name": "python",
   "nbconvert_exporter": "python",
   "pygments_lexer": "ipython3",
   "version": "3.10.0"
  }
 },
 "nbformat": 4,
 "nbformat_minor": 2
}
