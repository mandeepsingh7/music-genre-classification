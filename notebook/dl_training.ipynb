{
 "cells": [
  {
   "cell_type": "markdown",
   "metadata": {},
   "source": [
    "# Music Genre Classification"
   ]
  },
  {
   "cell_type": "markdown",
   "metadata": {},
   "source": [
    "### Model Training"
   ]
  },
  {
   "cell_type": "markdown",
   "metadata": {},
   "source": [
    "We do model training using following models and check the accuracy.\n",
    "- DNN\n",
    "- CNN\n",
    "- LSTM"
   ]
  },
  {
   "cell_type": "markdown",
   "metadata": {},
   "source": [
    "### Importing required packages"
   ]
  },
  {
   "cell_type": "code",
   "execution_count": 2,
   "metadata": {},
   "outputs": [],
   "source": [
    "import numpy as np\n",
    "from sklearn.model_selection import train_test_split\n",
    "from sklearn.preprocessing import LabelEncoder\n",
    "import torch\n",
    "import torch.nn as nn\n",
    "from torch.optim import lr_scheduler\n",
    "from tqdm import tqdm\n",
    "import matplotlib.pyplot as plt"
   ]
  },
  {
   "cell_type": "code",
   "execution_count": 3,
   "metadata": {},
   "outputs": [],
   "source": [
    "device = torch.device('cuda:0' if torch.cuda.is_available() else 'cpu')"
   ]
  },
  {
   "cell_type": "markdown",
   "metadata": {},
   "source": [
    "### Importing data"
   ]
  },
  {
   "cell_type": "code",
   "execution_count": 4,
   "metadata": {},
   "outputs": [],
   "source": [
    "mfcc_data = np.load('data/mfcc_features.npz')"
   ]
  },
  {
   "cell_type": "code",
   "execution_count": 5,
   "metadata": {},
   "outputs": [],
   "source": [
    "X = mfcc_data['X_mfcc']\n",
    "Y = mfcc_data['Y_mfcc']"
   ]
  },
  {
   "cell_type": "markdown",
   "metadata": {},
   "source": [
    "### Converting categorical label to numerical values"
   ]
  },
  {
   "cell_type": "code",
   "execution_count": 6,
   "metadata": {},
   "outputs": [],
   "source": [
    "le = LabelEncoder()\n",
    "Y = le.fit_transform(Y)"
   ]
  },
  {
   "cell_type": "code",
   "execution_count": 7,
   "metadata": {},
   "outputs": [
    {
     "name": "stdout",
     "output_type": "stream",
     "text": [
      "Mapping = {'blues': 0, 'classical': 1, 'country': 2, 'disco': 3, 'hiphop': 4, 'jazz': 5, 'metal': 6, 'pop': 7, 'reggae': 8, 'rock': 9}\n"
     ]
    }
   ],
   "source": [
    "mapping = dict(zip(le.classes_, le.transform(le.classes_)))\n",
    "print(f'Mapping = {mapping}')"
   ]
  },
  {
   "cell_type": "markdown",
   "metadata": {},
   "source": [
    "#### Splitting data into train, test, valid"
   ]
  },
  {
   "cell_type": "code",
   "execution_count": 8,
   "metadata": {},
   "outputs": [],
   "source": [
    "X_train_valid, X_test, y_train_valid, y_test = train_test_split(X, Y, test_size=0.1, random_state=42, stratify=Y)\n",
    "X_train, X_valid, y_train, y_valid = train_test_split(X_train_valid, y_train_valid, test_size=0.1, random_state=42, stratify=y_train_valid)"
   ]
  },
  {
   "cell_type": "code",
   "execution_count": 9,
   "metadata": {},
   "outputs": [
    {
     "name": "stdout",
     "output_type": "stream",
     "text": [
      "Shape of X_train = (2430, 20, 431)\n",
      "Shape of y_train = (2430,)\n",
      "Shape of X_valid = (270, 20, 431)\n",
      "Shape of y_valid = (270,)\n",
      "Shape of X_test = (300, 20, 431)\n",
      "Shape of y_test = (300,)\n"
     ]
    }
   ],
   "source": [
    "print(f'Shape of X_train = {X_train.shape}')\n",
    "print(f'Shape of y_train = {y_train.shape}')\n",
    "print(f'Shape of X_valid = {X_valid.shape}')\n",
    "print(f'Shape of y_valid = {y_valid.shape}')\n",
    "print(f'Shape of X_test = {X_test.shape}')\n",
    "print(f'Shape of y_test = {y_test.shape}')"
   ]
  },
  {
   "cell_type": "markdown",
   "metadata": {},
   "source": [
    "#### Creating train and valid dataloader"
   ]
  },
  {
   "cell_type": "code",
   "execution_count": 13,
   "metadata": {},
   "outputs": [],
   "source": [
    "train_data = torch.utils.data.TensorDataset(torch.tensor(X_train), torch.tensor(y_train))\n",
    "train_loader = torch.utils.data.DataLoader(dataset=train_data,\n",
    "                                           batch_size = 16,\n",
    "                                           shuffle = True)\n",
    "\n",
    "valid_data = torch.utils.data.TensorDataset(torch.tensor(X_valid), torch.tensor(y_valid))\n",
    "valid_loader = torch.utils.data.DataLoader(dataset=valid_data,\n",
    "                                           batch_size = 16,\n",
    "                                           shuffle = True)"
   ]
  },
  {
   "cell_type": "code",
   "execution_count": 10,
   "metadata": {},
   "outputs": [
    {
     "data": {
      "text/plain": [
       "2430"
      ]
     },
     "execution_count": 10,
     "metadata": {},
     "output_type": "execute_result"
    }
   ],
   "source": [
    "len(train_loader.dataset)"
   ]
  },
  {
   "cell_type": "markdown",
   "metadata": {},
   "source": [
    "## Models"
   ]
  },
  {
   "cell_type": "markdown",
   "metadata": {},
   "source": [
    "### Training"
   ]
  },
  {
   "cell_type": "code",
   "execution_count": 64,
   "metadata": {},
   "outputs": [],
   "source": [
    "def training(model, model_name, loss_fn, optimizer, scheduler, train_data_loader, valid_data_loader, num_epochs = 25, patience = 5):\n",
    "    min_loss = np.inf\n",
    "    count = 0\n",
    "    history = []\n",
    "    for epoch in tqdm(range(num_epochs)):\n",
    "        model.train()\n",
    "        train_loss = 0.0\n",
    "        train_acc = 0.0 \n",
    "        \n",
    "        valid_loss = 0.0\n",
    "        valid_acc = 0.0\n",
    "        for _, (inputs, labels) in enumerate(train_data_loader):\n",
    "            inputs = inputs.to(device)\n",
    "            labels = labels.to(device)\n",
    "            optimizer.zero_grad()\n",
    "            y_preds = model(inputs)\n",
    "            loss = loss_fn(y_preds, labels)\n",
    "            loss.backward()\n",
    "            optimizer.step()\n",
    "            train_loss += loss.item()*len(inputs)\n",
    "            correct_counts = (torch.argmax(y_preds.data, 1) == labels).float().sum().item()\n",
    "            train_acc += correct_counts\n",
    "        \n",
    "        with torch.no_grad():\n",
    "            model.eval()\n",
    "            for _, (inputs, labels) in enumerate(valid_data_loader):\n",
    "                inputs = inputs.to(device)\n",
    "                labels = labels.to(device)\n",
    "                y_preds = model(inputs)\n",
    "                loss = loss_fn(y_preds, labels)\n",
    "                valid_loss += loss.item()*len(inputs)\n",
    "                correct_counts = (torch.argmax(y_preds.data, 1) == labels).float().sum().item()\n",
    "                valid_acc += correct_counts\n",
    "        \n",
    "        train_loss = train_loss/len(train_data_loader.dataset)\n",
    "        train_acc = train_acc/len(train_data_loader.dataset)\n",
    "        \n",
    "        valid_loss = valid_loss/len(valid_data_loader.dataset)\n",
    "        valid_acc = valid_acc/len(valid_data_loader.dataset)\n",
    "        \n",
    "        history.append([train_acc, train_loss, valid_acc, valid_loss]) \n",
    "        print(f'Epoch No. {epoch+1}')\n",
    "        print(f'Training Accuracy = {train_acc:.4f}, Loss = {train_loss:.4f}')\n",
    "        print(f'Validation Accuracy = {valid_acc:.4f}, Loss = {valid_loss:.4f}')\n",
    "        torch.save(model.state_dict(), model_name + '_last_epoch.pt')\n",
    "        \n",
    "        scheduler.step(valid_loss)\n",
    "        \n",
    "        if (valid_loss < min_loss):\n",
    "            count = 0 \n",
    "            min_loss = valid_loss \n",
    "            torch.save(model.state_dict(), model_name + '_best_model.pt')\n",
    "        \n",
    "        else:\n",
    "            count += 1\n",
    "            if (count >= patience):\n",
    "                print(f'Early stop at Epoch Number. {epoch + 1}')\n",
    "                break \n",
    "        \n",
    "    return model, history"
   ]
  },
  {
   "cell_type": "markdown",
   "metadata": {},
   "source": [
    "### Accuracy for test data"
   ]
  },
  {
   "cell_type": "code",
   "execution_count": 12,
   "metadata": {},
   "outputs": [],
   "source": [
    "test_data = torch.utils.data.TensorDataset(torch.tensor(X_test), torch.tensor(y_test))\n",
    "test_loader = torch.utils.data.DataLoader(dataset=test_data,\n",
    "                                           batch_size = 16,\n",
    "                                           shuffle = True)"
   ]
  },
  {
   "cell_type": "code",
   "execution_count": 13,
   "metadata": {},
   "outputs": [],
   "source": [
    "def get_accuracy(trained_model, loss_fn, test_data_loader):\n",
    "    test_loss = 0.0\n",
    "    test_acc = 0.0\n",
    "    with torch.no_grad():\n",
    "        trained_model.eval()\n",
    "        for _, (inputs, labels) in enumerate(test_data_loader):\n",
    "            inputs = inputs.to(device)\n",
    "            labels = labels.to(device)\n",
    "            y_preds = trained_model(inputs)\n",
    "            loss = loss_fn(y_preds, labels)\n",
    "            test_loss += loss.item()*len(inputs)\n",
    "            correct_counts = (torch.argmax(y_preds.data, 1) == labels).float().sum().item()\n",
    "            test_acc += correct_counts\n",
    "    test_loss = test_loss/len(test_data_loader.dataset)\n",
    "    test_acc = test_acc/len(test_data_loader.dataset)\n",
    "    print(f'Loss for test set = {test_loss:.4f}')\n",
    "    print(f'Accuracy for test set = {test_acc:.4f}')\n",
    "    return test_loss, test_acc"
   ]
  },
  {
   "cell_type": "code",
   "execution_count": 14,
   "metadata": {},
   "outputs": [],
   "source": [
    "def post_training(trained_model, loss_fn, test_loader, history, model_name):\n",
    "    test_loss, test_acc = get_accuracy(trained_model, loss_fn, test_loader)\n",
    "    history_np = np.array(history)\n",
    "    fig, axes = plt.subplots(1, 2, figsize = (12, 4))\n",
    "    epochs_list = np.arange(1, len(history_np)+1)\n",
    "    axes[0].plot(epochs_list, history_np[:, 0], label = \"Training Accuracy\", marker = '.')\n",
    "    axes[0].plot(epochs_list, history_np[:, 2], label = \"Validation Accuracy\", marker = '.')\n",
    "    axes[0].set_xlabel('Epochs')\n",
    "    axes[0].set_ylabel('Accuracy')\n",
    "    axes[0].legend()\n",
    "\n",
    "    axes[1].plot(epochs_list, history_np[:, 1], label = \"Training Loss\", marker = '.')\n",
    "    axes[1].plot(epochs_list, history_np[:, 3], label = \"Validation Loss\", marker = '.')\n",
    "    axes[1].set_xlabel('Epochs')\n",
    "    axes[1].set_ylabel('Loss')\n",
    "    axes[1].legend()\n",
    "\n",
    "    fig.suptitle(f'Training for {model_name}')\n",
    "    plt.show()\n",
    "    return test_loss, test_acc"
   ]
  },
  {
   "cell_type": "markdown",
   "metadata": {},
   "source": [
    "### 1. DNN"
   ]
  },
  {
   "cell_type": "code",
   "execution_count": 15,
   "metadata": {},
   "outputs": [
    {
     "data": {
      "text/plain": [
       "8620"
      ]
     },
     "execution_count": 15,
     "metadata": {},
     "output_type": "execute_result"
    }
   ],
   "source": [
    "input_size = X_train.shape[1] * X_train.shape[2]\n",
    "print(f'Input Size = {input_size}')"
   ]
  },
  {
   "cell_type": "code",
   "execution_count": 16,
   "metadata": {},
   "outputs": [
    {
     "name": "stderr",
     "output_type": "stream",
     "text": [
      " 20%|██        | 1/5 [00:08<00:34,  8.63s/it]"
     ]
    },
    {
     "name": "stdout",
     "output_type": "stream",
     "text": [
      "Epoch No. 1\n",
      "Training Accuracy = 0.3235, Loss = 13.6182\n",
      "Validation Accuracy = 0.4222, Loss = 1.7237\n"
     ]
    },
    {
     "name": "stderr",
     "output_type": "stream",
     "text": [
      " 40%|████      | 2/5 [00:17<00:25,  8.55s/it]"
     ]
    },
    {
     "name": "stdout",
     "output_type": "stream",
     "text": [
      "Epoch No. 2\n",
      "Training Accuracy = 0.4617, Loss = 1.5460\n",
      "Validation Accuracy = 0.4407, Loss = 1.5453\n"
     ]
    },
    {
     "name": "stderr",
     "output_type": "stream",
     "text": [
      " 60%|██████    | 3/5 [00:25<00:16,  8.41s/it]"
     ]
    },
    {
     "name": "stdout",
     "output_type": "stream",
     "text": [
      "Epoch No. 3\n",
      "Training Accuracy = 0.5198, Loss = 1.3583\n",
      "Validation Accuracy = 0.4630, Loss = 1.5548\n"
     ]
    },
    {
     "name": "stderr",
     "output_type": "stream",
     "text": [
      " 80%|████████  | 4/5 [00:33<00:08,  8.38s/it]"
     ]
    },
    {
     "name": "stdout",
     "output_type": "stream",
     "text": [
      "Epoch No. 4\n",
      "Training Accuracy = 0.5979, Loss = 1.1683\n",
      "Validation Accuracy = 0.5074, Loss = 1.6126\n"
     ]
    },
    {
     "name": "stderr",
     "output_type": "stream",
     "text": [
      " 80%|████████  | 4/5 [00:41<00:10, 10.42s/it]"
     ]
    },
    {
     "name": "stdout",
     "output_type": "stream",
     "text": [
      "Epoch No. 5\n",
      "Training Accuracy = 0.6103, Loss = 1.1533\n",
      "Validation Accuracy = 0.4852, Loss = 1.6650\n",
      "Early stop at Epoch Number. 5\n"
     ]
    },
    {
     "name": "stderr",
     "output_type": "stream",
     "text": [
      "\n"
     ]
    }
   ],
   "source": [
    "model_name = 'DNN'\n",
    "model_1 = nn.Sequential(\n",
    "    nn.Flatten(),\n",
    "    nn.Linear(input_size, 1024),\n",
    "    nn.ReLU(),\n",
    "    nn.Linear(1024, 512),\n",
    "    nn.ReLU(),\n",
    "    nn.Linear(512, 10)\n",
    ")\n",
    "learning_rate = 0.001\n",
    "loss_fn = nn.CrossEntropyLoss()\n",
    "optimizer = torch.optim.Adam(model_1.parameters(), lr = learning_rate)\n",
    "scheduler = lr_scheduler.ReduceLROnPlateau(optimizer, 'min')\n",
    "trained_model1 , history_model1 = training(model_1, 'DNN', loss_fn, optimizer, scheduler, train_loader, valid_loader, 5, 3)"
   ]
  },
  {
   "cell_type": "code",
   "execution_count": 17,
   "metadata": {},
   "outputs": [
    {
     "name": "stdout",
     "output_type": "stream",
     "text": [
      "Loss for test set = 1.5834\n",
      "Accuracy for test set = 0.5267\n"
     ]
    },
    {
     "data": {
      "image/png": "[encoded data removed]",
      "text/plain": [
       "<Figure size 1200x400 with 2 Axes>"
      ]
     },
     "metadata": {},
     "output_type": "display_data"
    }
   ],
   "source": [
    "test_loss_1, test_acc_1 = post_training(trained_model1, loss_fn, test_loader, history_model1, 'DNN')"
   ]
  },
  {
   "cell_type": "markdown",
   "metadata": {},
   "source": [
    "### 2. CNN"
   ]
  },
  {
   "cell_type": "markdown",
   "metadata": {},
   "source": [
    "### Creating train and valid dataloaders"
   ]
  },
  {
   "cell_type": "markdown",
   "metadata": {},
   "source": [
    "CNN requires an extra dimension to be added to the data to indicate the channel, we need it for convolution operation"
   ]
  },
  {
   "cell_type": "code",
   "execution_count": 30,
   "metadata": {},
   "outputs": [],
   "source": [
    "X_train_cnn = np.expand_dims(X_train, 1)\n",
    "X_valid_cnn = np.expand_dims(X_valid, 1)\n",
    "train_data_cnn = torch.utils.data.TensorDataset(torch.tensor(X_train_cnn), torch.tensor(y_train))\n",
    "train_loader_cnn = torch.utils.data.DataLoader(dataset=train_data_cnn,\n",
    "                                           batch_size = 16,\n",
    "                                           shuffle = True)\n",
    "\n",
    "valid_data_cnn = torch.utils.data.TensorDataset(torch.tensor(X_valid_cnn), torch.tensor(y_valid))\n",
    "valid_loader_cnn = torch.utils.data.DataLoader(dataset=valid_data_cnn,\n",
    "                                           batch_size = 16,\n",
    "                                           shuffle = True)"
   ]
  },
  {
   "cell_type": "code",
   "execution_count": 128,
   "metadata": {},
   "outputs": [],
   "source": [
    "class CNN_music(nn.Module):\n",
    "    def __init__(self) :\n",
    "        super(CNN_music, self).__init__()\n",
    "        self.conv1 = nn.Sequential(\n",
    "            nn.Conv2d(in_channels=1, out_channels=256,\n",
    "                      kernel_size=3,   padding='same'),\n",
    "            nn.ReLU(),\n",
    "            nn.MaxPool2d(kernel_size=3, stride=2, padding=1),\n",
    "            nn.BatchNorm2d(256)\n",
    "        )\n",
    "        \n",
    "        self.conv2 = nn.Sequential(\n",
    "            nn.Conv2d(in_channels=256, out_channels=256,\n",
    "                      kernel_size=3,   padding='same'),\n",
    "            nn.ReLU(),\n",
    "            nn.MaxPool2d(kernel_size=3, stride=2, padding=1),\n",
    "            nn.BatchNorm2d(256)\n",
    "        ) \n",
    "\n",
    "        self.conv3 = nn.Sequential(\n",
    "            nn.Conv2d(in_channels=256, out_channels=256,\n",
    "                      kernel_size=2,   padding=2),\n",
    "            nn.ReLU(),\n",
    "            nn.MaxPool2d(kernel_size=2, stride=2, padding=1),\n",
    "            nn.BatchNorm2d(256)\n",
    "        )\n",
    "\n",
    "        self.fc = nn.Sequential(\n",
    "            nn.Flatten(),\n",
    "            nn.Flatten(),\n",
    "            nn.Linear(256 * 280, 512),\n",
    "            nn.ReLU(),\n",
    "            nn.Linear(512, 10)\n",
    "        )\n",
    "        \n",
    "        \n",
    "    def forward(self, x):\n",
    "        x = self.conv1(x)\n",
    "        x = self.conv2(x)\n",
    "        x = self.conv3(x)\n",
    "        x = self.fc(x)\n",
    "        return x"
   ]
  },
  {
   "cell_type": "code",
   "execution_count": 130,
   "metadata": {},
   "outputs": [
    {
     "name": "stderr",
     "output_type": "stream",
     "text": [
      "  0%|          | 0/5 [00:00<?, ?it/s]"
     ]
    },
    {
     "ename": "",
     "evalue": "",
     "output_type": "error",
     "traceback": [
      "\u001b[1;31mThe Kernel crashed while executing code in the current cell or a previous cell. \n",
      "\u001b[1;31mPlease review the code in the cell(s) to identify a possible cause of the failure. \n",
      "\u001b[1;31mClick <a href='https://aka.ms/vscodeJupyterKernelCrash'>here</a> for more info. \n",
      "\u001b[1;31mView Jupyter <a href='command:jupyter.viewOutput'>log</a> for further details."
     ]
    }
   ],
   "source": [
    "model_2 = CNN_music()\n",
    "learning_rate = 0.001\n",
    "loss_fn = nn.CrossEntropyLoss()\n",
    "optimizer = torch.optim.Adam(model_2.parameters(), lr = learning_rate)\n",
    "scheduler = lr_scheduler.ReduceLROnPlateau(optimizer, 'min')\n",
    "trained_model_2 , history_model_2 = training(model_2, 'CNN', loss_fn, optimizer, scheduler, train_loader_cnn, valid_loader_cnn, 5, 3)"
   ]
  },
  {
   "cell_type": "code",
   "execution_count": null,
   "metadata": {},
   "outputs": [],
   "source": [
    "X_test_cnn = np.expand_dims(X_test, 1)\n",
    "test_data_cnn = torch.utils.data.TensorDataset(torch.tensor(X_test_cnn), torch.tensor(y_test))\n",
    "test_loader_cnn = torch.utils.data.DataLoader(dataset=test_data_cnn,\n",
    "                                           batch_size = 16,\n",
    "                                           shuffle = True)\n",
    "test_loss_2, test_acc_2 = post_training(trained_model_2, loss_fn, test_loader_cnn, history_model_2, 'CNN')"
   ]
  },
  {
   "cell_type": "markdown",
   "metadata": {},
   "source": [
    "### LSTM"
   ]
  },
  {
   "cell_type": "code",
   "execution_count": 46,
   "metadata": {},
   "outputs": [],
   "source": [
    "X_train_lstm = np.transpose(X_train, (0, 2, 1))\n",
    "X_valid_lstm = np.transpose(X_valid, (0, 2, 1))\n",
    "train_data_lstm = torch.utils.data.TensorDataset(torch.tensor(X_train_lstm), torch.tensor(y_train))\n",
    "train_loader_lstm = torch.utils.data.DataLoader(dataset=train_data_lstm,\n",
    "                                           batch_size = 16,\n",
    "                                           shuffle = True)\n",
    "\n",
    "valid_data_lstm = torch.utils.data.TensorDataset(torch.tensor(X_valid_lstm), torch.tensor(y_valid))\n",
    "valid_loader_lstm = torch.utils.data.DataLoader(dataset=valid_data_lstm,\n",
    "                                           batch_size = 16,\n",
    "                                           shuffle = True)"
   ]
  },
  {
   "cell_type": "code",
   "execution_count": 61,
   "metadata": {},
   "outputs": [],
   "source": [
    "class LSTM_music(nn.Module):\n",
    "    def __init__(self):\n",
    "        super(LSTM_music, self).__init__()\n",
    "        self.lstm1 = nn.LSTM(input_size=20, hidden_size=128, batch_first=True)\n",
    "        self.lstm2 = nn.LSTM(input_size=128, hidden_size=256, batch_first=True)\n",
    "        self.fc = nn.Sequential(\n",
    "            nn.Linear(256, 128),\n",
    "            nn.Dropout(0.3),\n",
    "            nn.Linear(128, 10)\n",
    "        )\n",
    "    \n",
    "    def forward(self,x):\n",
    "        out, _ = self.lstm1(x, )\n",
    "        out = self.lstm2(out)[0][:, -1, :]\n",
    "        out = self.fc(out)\n",
    "        return out"
   ]
  },
  {
   "cell_type": "code",
   "execution_count": 65,
   "metadata": {},
   "outputs": [
    {
     "name": "stderr",
     "output_type": "stream",
     "text": [
      " 20%|██        | 1/5 [00:19<01:18, 19.65s/it]"
     ]
    },
    {
     "name": "stdout",
     "output_type": "stream",
     "text": [
      "Epoch No. 1\n",
      "Training Accuracy = 0.3251, Loss = 1.8311\n",
      "Validation Accuracy = 0.4926, Loss = 1.4833\n"
     ]
    },
    {
     "name": "stderr",
     "output_type": "stream",
     "text": [
      " 40%|████      | 2/5 [00:39<00:59, 19.86s/it]"
     ]
    },
    {
     "name": "stdout",
     "output_type": "stream",
     "text": [
      "Epoch No. 2\n",
      "Training Accuracy = 0.4621, Loss = 1.4620\n",
      "Validation Accuracy = 0.4667, Loss = 1.4542\n"
     ]
    },
    {
     "name": "stderr",
     "output_type": "stream",
     "text": [
      " 60%|██████    | 3/5 [00:59<00:39, 19.96s/it]"
     ]
    },
    {
     "name": "stdout",
     "output_type": "stream",
     "text": [
      "Epoch No. 3\n",
      "Training Accuracy = 0.5008, Loss = 1.3498\n",
      "Validation Accuracy = 0.5000, Loss = 1.3437\n"
     ]
    },
    {
     "ename": "",
     "evalue": "",
     "output_type": "error",
     "traceback": [
      "\u001b[1;31mThe Kernel crashed while executing code in the current cell or a previous cell. \n",
      "\u001b[1;31mPlease review the code in the cell(s) to identify a possible cause of the failure. \n",
      "\u001b[1;31mClick <a href='https://aka.ms/vscodeJupyterKernelCrash'>here</a> for more info. \n",
      "\u001b[1;31mView Jupyter <a href='command:jupyter.viewOutput'>log</a> for further details."
     ]
    }
   ],
   "source": [
    "model_3 = LSTM_music()\n",
    "learning_rate = 0.001\n",
    "loss_fn = nn.CrossEntropyLoss()\n",
    "optimizer = torch.optim.Adam(model_3.parameters(), lr = learning_rate)\n",
    "scheduler = lr_scheduler.ReduceLROnPlateau(optimizer, 'min')\n",
    "trained_model_3 , history_model_3 = training(model_3, 'LSTM', loss_fn, optimizer, scheduler, train_loader_lstm, valid_loader_lstm, 5, 3)"
   ]
  },
  {
   "cell_type": "code",
   "execution_count": null,
   "metadata": {},
   "outputs": [],
   "source": [
    "X_test_lstm = np.transpose(X_train, (0, 2, 1))\n",
    "test_data_lstm = torch.utils.data.TensorDataset(torch.tensor(X_test_lstm), torch.tensor(y_test))\n",
    "test_loader_lstm = torch.utils.data.DataLoader(dataset=test_data_lstm,\n",
    "                                           batch_size = 16,\n",
    "                                           shuffle = True)\n",
    "test_loss_3, test_acc_3 = post_training(trained_model_3, loss_fn, test_loader_lstm, history_model_3, 'LSTM')"
   ]
  }
 ],
 "metadata": {
  "kernelspec": {
   "display_name": "Python 3",
   "language": "python",
   "name": "python3"
  },
  "language_info": {
   "codemirror_mode": {
    "name": "ipython",
    "version": 3
   },
   "file_extension": ".py",
   "mimetype": "text/x-python",
   "name": "python",
   "nbconvert_exporter": "python",
   "pygments_lexer": "ipython3",
   "version": "3.10.0"
  }
 },
 "nbformat": 4,
 "nbformat_minor": 2
}
