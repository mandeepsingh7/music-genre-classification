{
 "cells": [
  {
   "cell_type": "markdown",
   "metadata": {},
   "source": [
    "# Music Genre Classsification"
   ]
  },
  {
   "cell_type": "markdown",
   "metadata": {},
   "source": [
    "We did model training using following models and checked the accuracy.\n",
    "- XGBoost\n",
    "- SVM\n",
    "- Random Forest\n",
    "- KNN\n",
    "- DNN\n",
    "- CNN\n",
    "- LSTM"
   ]
  },
  {
   "cell_type": "markdown",
   "metadata": {},
   "source": [
    "- In this file, we will compare the accuracy of the models.\n",
    "- And then we will see how well the best model (LSTM) works on test files"
   ]
  },
  {
   "cell_type": "markdown",
   "metadata": {},
   "source": [
    "### Importing required packages"
   ]
  },
  {
   "cell_type": "code",
   "execution_count": 119,
   "metadata": {},
   "outputs": [],
   "source": [
    "import numpy as np\n",
    "import pandas as pd\n",
    "import seaborn as sns \n",
    "from collections import Counter\n",
    "import matplotlib.pyplot as plt\n",
    "import torch \n",
    "import torch.nn as nn\n",
    "import librosa\n",
    "import os\n",
    "from pathlib import Path"
   ]
  },
  {
   "cell_type": "code",
   "execution_count": 21,
   "metadata": {},
   "outputs": [],
   "source": [
    "device = torch.device('cuda:0' if torch.cuda.is_available() else 'cpu')"
   ]
  },
  {
   "cell_type": "markdown",
   "metadata": {},
   "source": [
    "### Comparing different models"
   ]
  },
  {
   "cell_type": "code",
   "execution_count": 4,
   "metadata": {},
   "outputs": [
    {
     "data": {
      "text/html": [
       "<div>\n",
       "<style scoped>\n",
       "    .dataframe tbody tr th:only-of-type {\n",
       "        vertical-align: middle;\n",
       "    }\n",
       "\n",
       "    .dataframe tbody tr th {\n",
       "        vertical-align: top;\n",
       "    }\n",
       "\n",
       "    .dataframe thead th {\n",
       "        text-align: right;\n",
       "    }\n",
       "</style>\n",
       "<table border=\"1\" class=\"dataframe\">\n",
       "  <thead>\n",
       "    <tr style=\"text-align: right;\">\n",
       "      <th></th>\n",
       "      <th>Model Name</th>\n",
       "      <th>Accuracy</th>\n",
       "    </tr>\n",
       "  </thead>\n",
       "  <tbody>\n",
       "    <tr>\n",
       "      <th>0</th>\n",
       "      <td>LSTM</td>\n",
       "      <td>86.0</td>\n",
       "    </tr>\n",
       "    <tr>\n",
       "      <th>1</th>\n",
       "      <td>XG Boost</td>\n",
       "      <td>81.0</td>\n",
       "    </tr>\n",
       "    <tr>\n",
       "      <th>2</th>\n",
       "      <td>CNN</td>\n",
       "      <td>80.8</td>\n",
       "    </tr>\n",
       "    <tr>\n",
       "      <th>3</th>\n",
       "      <td>SVM</td>\n",
       "      <td>80.5</td>\n",
       "    </tr>\n",
       "    <tr>\n",
       "      <th>4</th>\n",
       "      <td>DNN</td>\n",
       "      <td>80.0</td>\n",
       "    </tr>\n",
       "    <tr>\n",
       "      <th>5</th>\n",
       "      <td>Random Forest</td>\n",
       "      <td>79.0</td>\n",
       "    </tr>\n",
       "    <tr>\n",
       "      <th>6</th>\n",
       "      <td>KNN</td>\n",
       "      <td>77.0</td>\n",
       "    </tr>\n",
       "  </tbody>\n",
       "</table>\n",
       "</div>"
      ],
      "text/plain": [
       "      Model Name  Accuracy\n",
       "0           LSTM      86.0\n",
       "1       XG Boost      81.0\n",
       "2            CNN      80.8\n",
       "3            SVM      80.5\n",
       "4            DNN      80.0\n",
       "5  Random Forest      79.0\n",
       "6            KNN      77.0"
      ]
     },
     "execution_count": 4,
     "metadata": {},
     "output_type": "execute_result"
    }
   ],
   "source": [
    "accuracy = {\n",
    "    'XG Boost' : 81.0,\n",
    "    'SVM' : 80.5,\n",
    "    'Random Forest' : 79.0,\n",
    "    'KNN' : 77.0,\n",
    "    'DNN' : 80.0,\n",
    "    'CNN' : 80.8,\n",
    "    'LSTM' : 86.0\n",
    "}\n",
    "accuracy_models_list = []\n",
    "for model in accuracy:\n",
    "    accuracy_models_list.append([model, accuracy[model]])\n",
    "accuracy_df = pd.DataFrame(accuracy_models_list, columns=['Model Name', 'Accuracy']).sort_values(by='Accuracy', ascending=False, ignore_index=True)\n",
    "accuracy_df"
   ]
  },
  {
   "cell_type": "code",
   "execution_count": 17,
   "metadata": {},
   "outputs": [
    {
     "data": {
      "image/png": "[encoded data removed]",
      "text/plain": [
       "<Figure size 800x450 with 1 Axes>"
      ]
     },
     "metadata": {},
     "output_type": "display_data"
    }
   ],
   "source": [
    "plt.figure(figsize = (8, 4.5))\n",
    "ax = sns.barplot(accuracy_df, x='Model Name', y='Accuracy')\n",
    "ax.bar_label(ax.containers[0], fontsize=10)\n",
    "plt.show()"
   ]
  },
  {
   "cell_type": "markdown",
   "metadata": {},
   "source": [
    "### Loading LSTM model from pt file"
   ]
  },
  {
   "cell_type": "code",
   "execution_count": 23,
   "metadata": {},
   "outputs": [
    {
     "data": {
      "text/plain": [
       "LSTM_music(\n",
       "  (lstm1): LSTM(20, 128, batch_first=True)\n",
       "  (lstm2): LSTM(128, 256, batch_first=True)\n",
       "  (lstm3): LSTM(256, 256, batch_first=True)\n",
       "  (fc): Sequential(\n",
       "    (0): Linear(in_features=256, out_features=128, bias=True)\n",
       "    (1): Dropout(p=0.5, inplace=False)\n",
       "    (2): Linear(in_features=128, out_features=10, bias=True)\n",
       "  )\n",
       ")"
      ]
     },
     "execution_count": 23,
     "metadata": {},
     "output_type": "execute_result"
    }
   ],
   "source": [
    "class LSTM_music(nn.Module):\n",
    "    def __init__(self):\n",
    "        super(LSTM_music, self).__init__()\n",
    "        self.lstm1 = nn.LSTM(input_size=20, hidden_size=128, batch_first=True)\n",
    "        self.lstm2 = nn.LSTM(input_size=128, hidden_size=256, batch_first=True)\n",
    "        self.lstm3 = nn.LSTM(input_size=256, hidden_size=256, batch_first=True)\n",
    "        self.fc = nn.Sequential(\n",
    "            nn.Linear(256, 128),\n",
    "            nn.Dropout(0.5),\n",
    "            nn.Linear(128, 10)\n",
    "        )\n",
    "    \n",
    "    def forward(self,x):\n",
    "        out, _ = self.lstm1(x)\n",
    "        out = self.lstm2(out)[0]\n",
    "        out = self.lstm3(out)[0][:, -1, :]\n",
    "        out = self.fc(out)\n",
    "        return out\n",
    "\n",
    "model = LSTM_music()\n",
    "model.load_state_dict(torch.load('LSTM_best_model.pt', map_location=device))\n",
    "model.eval()\n",
    "model.to(device)"
   ]
  },
  {
   "cell_type": "code",
   "execution_count": 43,
   "metadata": {},
   "outputs": [
    {
     "data": {
      "text/plain": [
       "{0: 'blues',\n",
       " 1: 'classical',\n",
       " 2: 'country',\n",
       " 3: 'disco',\n",
       " 4: 'hiphop',\n",
       " 5: 'jazz',\n",
       " 6: 'metal',\n",
       " 7: 'pop',\n",
       " 8: 'reggae',\n",
       " 9: 'rock'}"
      ]
     },
     "execution_count": 43,
     "metadata": {},
     "output_type": "execute_result"
    }
   ],
   "source": [
    "mapping = {'blues': 0, 'classical': 1, 'country': 2, 'disco': 3, 'hiphop': 4, 'jazz': 5, 'metal': 6, 'pop': 7, 'reggae': 8, 'rock': 9}\n",
    "value_to_label = {value : label for label, value in mapping.items()}\n",
    "value_to_label"
   ]
  },
  {
   "cell_type": "markdown",
   "metadata": {},
   "source": [
    "### Loading mean and std values"
   ]
  },
  {
   "cell_type": "code",
   "execution_count": 64,
   "metadata": {},
   "outputs": [],
   "source": [
    "loaded = np.load('mean_std.npz')\n",
    "mean = loaded['mean']\n",
    "std = loaded['std']"
   ]
  },
  {
   "cell_type": "markdown",
   "metadata": {},
   "source": [
    "Padding function"
   ]
  },
  {
   "cell_type": "code",
   "execution_count": 26,
   "metadata": {},
   "outputs": [],
   "source": [
    "def padding(array, desired_size):\n",
    "    curr_size = array.shape[0]\n",
    "    padding_required = desired_size - curr_size\n",
    "    return np.pad(array, (0, padding_required), mode = 'symmetric') "
   ]
  },
  {
   "cell_type": "markdown",
   "metadata": {},
   "source": [
    "### Predict Function"
   ]
  },
  {
   "cell_type": "code",
   "execution_count": 121,
   "metadata": {},
   "outputs": [],
   "source": [
    "frame_length = 1024 \n",
    "hop_length = 512\n",
    "def predict_genre(file_path):\n",
    "    signal, sr = librosa.load(file_path)\n",
    "    signal_array = []\n",
    "    num = round(len(signal)/(3*sr))\n",
    "    for i in range(num - 1):\n",
    "        signal_array.append(signal[3*i*sr : 3*(i+1)*sr])\n",
    "    if (len(signal) < 3*num*sr):\n",
    "        print(f'file path = {file_path}, number of 3s files = {num}')\n",
    "        signal_array.append(padding(signal[3*(num-1)*sr :], 3*sr))\n",
    "    else:\n",
    "        signal_array.append(signal[3*(num-1)*sr : 3*num*sr])\n",
    "    mfcc_array = []\n",
    "    for i in range(num):\n",
    "        mfcc_array.append(np.array(librosa.feature.mfcc(y=signal_array[i], sr=sr, n_mfcc=20, n_fft=frame_length, hop_length=hop_length)))\n",
    "    mfcc_array = np.array(mfcc_array)\n",
    "    mfcc_array = ((mfcc_array - mean) / std)\n",
    "    actual_label = file_path.split('\\\\')[-1].split('.')[0]\n",
    "    prediction_array = []\n",
    "    for i in range(num):\n",
    "        value = torch.argmax(model(torch.tensor(mfcc_array[i].T).unsqueeze(0)))\n",
    "        prediction_array.append(value_to_label[value.item()])\n",
    "    count_predictions = Counter(prediction_array)\n",
    "    print(f'Actual genre = {actual_label}')\n",
    "    predicted_genre = count_predictions.most_common(1)[0][0]\n",
    "    print(f'Predicted Genre = {predicted_genre}')\n",
    "    print('Probabilites for Prediction:')\n",
    "    for genre in count_predictions:\n",
    "        print(f'{genre} : {(count_predictions[genre]/num):.2f}')\n",
    "    return predicted_genre    "
   ]
  },
  {
   "cell_type": "markdown",
   "metadata": {},
   "source": [
    "### Making Prediction for 10 random files"
   ]
  },
  {
   "cell_type": "code",
   "execution_count": 127,
   "metadata": {},
   "outputs": [
    {
     "name": "stdout",
     "output_type": "stream",
     "text": [
      "File Number 1:\n",
      "Actual genre = blues\n",
      "Predicted Genre = blues\n",
      "Probabilites for Prediction:\n",
      "blues : 0.80\n",
      "disco : 0.20\n",
      "------------------------------\n",
      "File Number 2:\n",
      "Actual genre = classical\n",
      "Predicted Genre = classical\n",
      "Probabilites for Prediction:\n",
      "classical : 1.00\n",
      "------------------------------\n",
      "File Number 3:\n",
      "Actual genre = country\n",
      "Predicted Genre = country\n",
      "Probabilites for Prediction:\n",
      "country : 0.90\n",
      "pop : 0.10\n",
      "------------------------------\n",
      "File Number 4:\n",
      "Actual genre = disco\n",
      "Predicted Genre = disco\n",
      "Probabilites for Prediction:\n",
      "disco : 1.00\n",
      "------------------------------\n",
      "File Number 5:\n",
      "Actual genre = hiphop\n",
      "Predicted Genre = hiphop\n",
      "Probabilites for Prediction:\n",
      "hiphop : 1.00\n",
      "------------------------------\n",
      "File Number 6:\n",
      "Actual genre = jazz\n",
      "Predicted Genre = jazz\n",
      "Probabilites for Prediction:\n",
      "jazz : 1.00\n",
      "------------------------------\n",
      "File Number 7:\n",
      "Actual genre = metal\n",
      "Predicted Genre = metal\n",
      "Probabilites for Prediction:\n",
      "metal : 1.00\n",
      "------------------------------\n",
      "File Number 8:\n",
      "Actual genre = pop\n",
      "Predicted Genre = pop\n",
      "Probabilites for Prediction:\n",
      "pop : 1.00\n",
      "------------------------------\n",
      "File Number 9:\n",
      "Actual genre = reggae\n",
      "Predicted Genre = reggae\n",
      "Probabilites for Prediction:\n",
      "reggae : 1.00\n",
      "------------------------------\n",
      "File Number 10:\n",
      "Actual genre = rock\n",
      "Predicted Genre = rock\n",
      "Probabilites for Prediction:\n",
      "rock : 0.70\n",
      "country : 0.10\n",
      "reggae : 0.10\n",
      "hiphop : 0.10\n",
      "------------------------------\n"
     ]
    }
   ],
   "source": [
    "root_folder = 'data/to_predict'\n",
    "i = 1\n",
    "for root, dirs, files in os.walk(root_folder):\n",
    "    for file in files:\n",
    "        print(f'File Number {i}:')\n",
    "        i += 1\n",
    "        file_path = Path(os.path.join(root_folder, file))\n",
    "        genre = predict_genre(str(file_path))\n",
    "        print('-'*30)"
   ]
  }
 ],
 "metadata": {
  "kernelspec": {
   "display_name": "Python 3",
   "language": "python",
   "name": "python3"
  },
  "language_info": {
   "codemirror_mode": {
    "name": "ipython",
    "version": 3
   },
   "file_extension": ".py",
   "mimetype": "text/x-python",
   "name": "python",
   "nbconvert_exporter": "python",
   "pygments_lexer": "ipython3",
   "version": "3.10.0"
  }
 },
 "nbformat": 4,
 "nbformat_minor": 2
}
