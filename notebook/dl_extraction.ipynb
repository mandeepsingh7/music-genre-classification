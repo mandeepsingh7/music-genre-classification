{
 "cells": [
  {
   "cell_type": "markdown",
   "metadata": {},
   "source": [
    "# Music Genre Classification"
   ]
  },
  {
   "cell_type": "markdown",
   "metadata": {},
   "source": [
    "## Feature Extraction (for Deep Learning)"
   ]
  },
  {
   "cell_type": "markdown",
   "metadata": {},
   "source": [
    "### Importing required packages"
   ]
  },
  {
   "cell_type": "code",
   "execution_count": 1,
   "metadata": {},
   "outputs": [],
   "source": [
    "import os\n",
    "from pathlib import Path\n",
    "import librosa\n",
    "import numpy as np"
   ]
  },
  {
   "cell_type": "markdown",
   "metadata": {},
   "source": [
    "#### Padding function "
   ]
  },
  {
   "cell_type": "code",
   "execution_count": 2,
   "metadata": {},
   "outputs": [],
   "source": [
    "def padding(array, desired_size):\n",
    "    curr_size = array.shape[0]\n",
    "    padding_required = desired_size - curr_size\n",
    "    return np.pad(array, (0, padding_required), mode = 'symmetric')    "
   ]
  },
  {
   "cell_type": "markdown",
   "metadata": {},
   "source": [
    "### MFCC Feature Extraction"
   ]
  },
  {
   "cell_type": "code",
   "execution_count": 3,
   "metadata": {},
   "outputs": [],
   "source": [
    "X_mfcc = []\n",
    "Y_mfcc = []\n",
    "frame_length = 1024\n",
    "hop_length = 512\n",
    "genres = ['blues', 'classical', 'country', 'disco', 'hiphop', 'jazz', 'metal', 'pop', 'reggae', 'rock']\n",
    "root_folder = 'raw_data/genres/'\n",
    "for genre in genres:\n",
    "    for root, dirs, files in os.walk(root_folder + genre):\n",
    "        for i, file in enumerate(files):\n",
    "            file_path = Path(os.path.join(root, file))\n",
    "            signal, sr = librosa.load(file_path)\n",
    "            signal_1 = signal[ : 10*sr]\n",
    "            signal_2 = signal[10*sr : 20*sr]\n",
    "            if (len(signal) < 30*sr):\n",
    "                signal_3 = padding(signal[20*sr : ], 10*sr)\n",
    "            else:\n",
    "                signal_3 = signal[20*sr : 30*sr]\n",
    "            mfcc_1 = np.array(librosa.feature.mfcc(y=signal_1, sr=sr, n_mfcc=20, n_fft=frame_length, hop_length=hop_length))\n",
    "            mfcc_2 = np.array(librosa.feature.mfcc(y=signal_2, sr=sr, n_mfcc=20, n_fft=frame_length, hop_length=hop_length))\n",
    "            mfcc_3 = np.array(librosa.feature.mfcc(y=signal_3, sr=sr, n_mfcc=20, n_fft=frame_length, hop_length=hop_length))\n",
    "            X_mfcc.extend([mfcc_1, mfcc_2, mfcc_3])\n",
    "            Y_mfcc.extend([genre]*3)"
   ]
  },
  {
   "cell_type": "code",
   "execution_count": 4,
   "metadata": {},
   "outputs": [
    {
     "name": "stdout",
     "output_type": "stream",
     "text": [
      "Shape of X_mfcc = (3000, 20, 431)\n",
      "Shape of Y_mfcc = (3000,)\n"
     ]
    }
   ],
   "source": [
    "X_mfcc = np.array(X_mfcc)\n",
    "Y_mfcc = np.array(Y_mfcc)\n",
    "print(f'Shape of X_mfcc = {X_mfcc.shape}')\n",
    "print(f'Shape of Y_mfcc = {Y_mfcc.shape}')"
   ]
  },
  {
   "cell_type": "markdown",
   "metadata": {},
   "source": [
    "### Mel Feature Extraction"
   ]
  },
  {
   "cell_type": "code",
   "execution_count": 5,
   "metadata": {},
   "outputs": [],
   "source": [
    "X_mel = []\n",
    "Y_mel = []\n",
    "frame_length = 1024\n",
    "hop_length = 512\n",
    "genres = ['blues', 'classical', 'country', 'disco', 'hiphop', 'jazz', 'metal', 'pop', 'reggae', 'rock']\n",
    "root_folder = 'raw_data/genres/'\n",
    "for genre in genres:\n",
    "    for root, dirs, files in os.walk(root_folder + genre):\n",
    "        for i, file in enumerate(files):\n",
    "            file_path = Path(os.path.join(root, file))\n",
    "            signal, sr = librosa.load(file_path)\n",
    "            signal_1 = signal[ : 10*sr]\n",
    "            signal_2 = signal[10*sr : 20*sr]\n",
    "            if (len(signal) < 30*sr):\n",
    "                signal_3 = padding(signal[20*sr : ], 10*sr)\n",
    "            else:\n",
    "                signal_3 = signal[20*sr : 30*sr]\n",
    "            mel_1 = np.array(np.log(librosa.feature.melspectrogram(y=signal_1, sr=sr, n_mels=128, n_fft=frame_length, hop_length=hop_length) + 1e-10))\n",
    "            mel_2 = np.array(np.log(librosa.feature.melspectrogram(y=signal_2, sr=sr, n_mels=128, n_fft=frame_length, hop_length=hop_length) + 1e-10))\n",
    "            mel_3 = np.array(np.log(librosa.feature.melspectrogram(y=signal_3, sr=sr, n_mels=128, n_fft=frame_length, hop_length=hop_length) + 1e-10))\n",
    "            X_mel.extend([mel_1, mel_2, mel_3])\n",
    "            Y_mel.extend([genre]*3)"
   ]
  },
  {
   "cell_type": "code",
   "execution_count": 6,
   "metadata": {},
   "outputs": [
    {
     "name": "stdout",
     "output_type": "stream",
     "text": [
      "Shape of X_mel = (3000, 128, 431)\n",
      "Shape of Y_mel = (3000,)\n"
     ]
    }
   ],
   "source": [
    "X_mel = np.array(X_mel)\n",
    "Y_mel = np.array(Y_mel)\n",
    "print(f'Shape of X_mel = {X_mel.shape}')\n",
    "print(f'Shape of Y_mel = {Y_mel.shape}')"
   ]
  },
  {
   "cell_type": "markdown",
   "metadata": {},
   "source": [
    "### Saving Extracted Features to npz files"
   ]
  },
  {
   "cell_type": "code",
   "execution_count": 7,
   "metadata": {},
   "outputs": [],
   "source": [
    "if not os.path.exists('data'):\n",
    "    os.mkdir('data')\n",
    "np.savez_compressed('data/mfcc_features', X_mfcc=X_mfcc, Y_mfcc=Y_mfcc)\n",
    "np.savez_compressed('data/mel_features', X_mel=X_mel, Y_mel=Y_mel)"
   ]
  }
 ],
 "metadata": {
  "kernelspec": {
   "display_name": "Python 3",
   "language": "python",
   "name": "python3"
  },
  "language_info": {
   "codemirror_mode": {
    "name": "ipython",
    "version": 3
   },
   "file_extension": ".py",
   "mimetype": "text/x-python",
   "name": "python",
   "nbconvert_exporter": "python",
   "pygments_lexer": "ipython3",
   "version": "3.10.0"
  }
 },
 "nbformat": 4,
 "nbformat_minor": 2
}
